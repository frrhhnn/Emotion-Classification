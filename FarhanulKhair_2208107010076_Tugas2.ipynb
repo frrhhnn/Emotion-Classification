{
  "nbformat": 4,
  "nbformat_minor": 0,
  "metadata": {
    "colab": {
      "provenance": [],
      "gpuType": "T4"
    },
    "kernelspec": {
      "name": "python3",
      "display_name": "Python 3"
    },
    "accelerator": "GPU"
  },
  "cells": [
    {
      "cell_type": "markdown",
      "source": [
        "### **Load Dan Menampilkan Data**"
      ],
      "metadata": {
        "id": "5ol7iNPfPo0U"
      }
    },
    {
      "cell_type": "code",
      "metadata": {
        "colab": {
          "base_uri": "https://localhost:8080/"
        },
        "id": "2d7QWxXtUMCN",
        "outputId": "8131a47c-2f9e-4cf0-da61-f69ed71890c8"
      },
      "source": [
        "import pandas as pd\n",
        "\n",
        "# Unggah file (di Colab: klik ikon folder > upload file)\n",
        "train_df = pd.read_csv('train.txt', header=None)\n",
        "val_df = pd.read_csv('val.txt', header=None)\n",
        "test_df = pd.read_csv('test.txt', header=None)\n",
        "\n",
        "# Menampilkan beberapa baris pertama dari masing-masing dataset\n",
        "print(\"=== DATA TRAIN ===\")\n",
        "print(train_df.head(), \"\\n\")\n",
        "\n",
        "print(\"=== DATA VALIDASI ===\")\n",
        "print(val_df.head(), \"\\n\")\n",
        "\n",
        "print(\"=== DATA TEST ===\")\n",
        "print(test_df.head(), \"\\n\")\n"
      ],
      "execution_count": 23,
      "outputs": [
        {
          "output_type": "stream",
          "name": "stdout",
          "text": [
            "=== DATA TRAIN ===\n",
            "                                                   0\n",
            "0                    i didnt feel humiliated;sadness\n",
            "1  i can go from feeling so hopeless to so damned...\n",
            "2  im grabbing a minute to post i feel greedy wro...\n",
            "3  i am ever feeling nostalgic about the fireplac...\n",
            "4                         i am feeling grouchy;anger \n",
            "\n",
            "=== DATA VALIDASI ===\n",
            "                                                   0\n",
            "0  im feeling quite sad and sorry for myself but ...\n",
            "1  i feel like i am still looking at a blank canv...\n",
            "2                i feel like a faithful servant;love\n",
            "3            i am just feeling cranky and blue;anger\n",
            "4  i can have for a treat or if i am feeling fest... \n",
            "\n",
            "=== DATA TEST ===\n",
            "                                                   0\n",
            "0  im feeling rather rotten so im not very ambiti...\n",
            "1  im updating my blog because i feel shitty;sadness\n",
            "2  i never make her separate from me because i do...\n",
            "3  i left with my bouquet of red and yellow tulip...\n",
            "4  i was feeling a little vain when i did this on... \n",
            "\n"
          ]
        }
      ]
    },
    {
      "cell_type": "markdown",
      "source": [
        "### **Preprocessing Text**"
      ],
      "metadata": {
        "id": "AM968dPtPs_f"
      }
    },
    {
      "cell_type": "code",
      "source": [
        "import pandas as pd\n",
        "import numpy as np\n",
        "import nltk\n",
        "from nltk.tokenize import word_tokenize\n",
        "from sklearn.preprocessing import OneHotEncoder\n",
        "from keras.models import Sequential\n",
        "from keras.layers import Bidirectional, LSTM, Dense, Dropout\n",
        "from keras.callbacks import EarlyStopping\n",
        "from keras.optimizers import Adam\n",
        "import matplotlib.pyplot as plt\n",
        "\n",
        "nltk.download('punkt')\n",
        "\n",
        "# Fungsi padding\n",
        "def padd(tokens, max_len=100):\n",
        "    tokens = tokens[:max_len]\n",
        "    while len(tokens) < max_len:\n",
        "        tokens.append('<pad>')\n",
        "    return tokens\n",
        "\n",
        "# Fungsi preprocessing teks\n",
        "def preprocess_text_column(df, text_col_name='text'):\n",
        "    tokenized = [str(s).lower().split() for s in df[text_col_name]]\n",
        "    return tokenized\n",
        "\n",
        "# Fungsi untuk memuat data dari file .txt\n",
        "def load_data_from_txt(path):\n",
        "    with open(path, 'r', encoding='utf-8') as file:\n",
        "        lines = file.readlines()\n",
        "    data = []\n",
        "    for line in lines:\n",
        "        try:\n",
        "            text_and_label = line.strip().split(';')\n",
        "            if len(text_and_label) == 2:\n",
        "                full_text = text_and_label[0]\n",
        "                label = text_and_label[1]\n",
        "                text = ' '.join(full_text.split(' ')[1:])\n",
        "                data.append((text, label))\n",
        "        except:\n",
        "            continue\n",
        "    df = pd.DataFrame(data, columns=['text', 'emotion'])\n",
        "    df.dropna(subset=['emotion'], inplace=True)\n",
        "    df.reset_index(drop=True, inplace=True)\n",
        "    return df\n",
        "\n",
        "# Fungsi untuk menampilkan contoh sebelum dan sesudah preprocessing\n",
        "def display_preprocessing_examples(df, tokens, title=\"Dataset\"):\n",
        "    print(f\"\\n===== {title.upper()} EXAMPLES =====\")\n",
        "    for i in range(min(2, len(df))):\n",
        "        print(f\"\\nContoh ke-{i+1}:\")\n",
        "        print(\"Sebelum:\", df.iloc[i]['text'])\n",
        "        print(\"Sesudah:\", tokens[i])\n",
        "\n",
        "# Load dataset\n",
        "train_df = load_data_from_txt('train.txt')\n",
        "val_df = load_data_from_txt('val.txt')\n",
        "test_df = load_data_from_txt('test.txt')\n",
        "\n",
        "# Preprocessing\n",
        "train_tokens = [padd(tokens) for tokens in preprocess_text_column(train_df)]\n",
        "val_tokens = [padd(tokens) for tokens in preprocess_text_column(val_df)]\n",
        "test_tokens = [padd(tokens) for tokens in preprocess_text_column(test_df)]\n",
        "\n",
        "# Tampilkan contoh\n",
        "display_preprocessing_examples(train_df, train_tokens, \"Train\")\n",
        "display_preprocessing_examples(val_df, val_tokens, \"Validation\")\n",
        "display_preprocessing_examples(test_df, test_tokens, \"Test\")\n"
      ],
      "metadata": {
        "colab": {
          "base_uri": "https://localhost:8080/"
        },
        "id": "rO24K1RoPzGu",
        "outputId": "34ba546e-1ea4-44bf-eed1-b51147559891"
      },
      "execution_count": 24,
      "outputs": [
        {
          "output_type": "stream",
          "name": "stdout",
          "text": [
            "\n",
            "===== TRAIN EXAMPLES =====\n",
            "\n",
            "Contoh ke-1:\n",
            "Sebelum: didnt feel humiliated\n",
            "Sesudah: ['didnt', 'feel', 'humiliated', '<pad>', '<pad>', '<pad>', '<pad>', '<pad>', '<pad>', '<pad>', '<pad>', '<pad>', '<pad>', '<pad>', '<pad>', '<pad>', '<pad>', '<pad>', '<pad>', '<pad>', '<pad>', '<pad>', '<pad>', '<pad>', '<pad>', '<pad>', '<pad>', '<pad>', '<pad>', '<pad>', '<pad>', '<pad>', '<pad>', '<pad>', '<pad>', '<pad>', '<pad>', '<pad>', '<pad>', '<pad>', '<pad>', '<pad>', '<pad>', '<pad>', '<pad>', '<pad>', '<pad>', '<pad>', '<pad>', '<pad>', '<pad>', '<pad>', '<pad>', '<pad>', '<pad>', '<pad>', '<pad>', '<pad>', '<pad>', '<pad>', '<pad>', '<pad>', '<pad>', '<pad>', '<pad>', '<pad>', '<pad>', '<pad>', '<pad>', '<pad>', '<pad>', '<pad>', '<pad>', '<pad>', '<pad>', '<pad>', '<pad>', '<pad>', '<pad>', '<pad>', '<pad>', '<pad>', '<pad>', '<pad>', '<pad>', '<pad>', '<pad>', '<pad>', '<pad>', '<pad>', '<pad>', '<pad>', '<pad>', '<pad>', '<pad>', '<pad>', '<pad>', '<pad>', '<pad>', '<pad>']\n",
            "\n",
            "Contoh ke-2:\n",
            "Sebelum: can go from feeling so hopeless to so damned hopeful just from being around someone who cares and is awake\n",
            "Sesudah: ['can', 'go', 'from', 'feeling', 'so', 'hopeless', 'to', 'so', 'damned', 'hopeful', 'just', 'from', 'being', 'around', 'someone', 'who', 'cares', 'and', 'is', 'awake', '<pad>', '<pad>', '<pad>', '<pad>', '<pad>', '<pad>', '<pad>', '<pad>', '<pad>', '<pad>', '<pad>', '<pad>', '<pad>', '<pad>', '<pad>', '<pad>', '<pad>', '<pad>', '<pad>', '<pad>', '<pad>', '<pad>', '<pad>', '<pad>', '<pad>', '<pad>', '<pad>', '<pad>', '<pad>', '<pad>', '<pad>', '<pad>', '<pad>', '<pad>', '<pad>', '<pad>', '<pad>', '<pad>', '<pad>', '<pad>', '<pad>', '<pad>', '<pad>', '<pad>', '<pad>', '<pad>', '<pad>', '<pad>', '<pad>', '<pad>', '<pad>', '<pad>', '<pad>', '<pad>', '<pad>', '<pad>', '<pad>', '<pad>', '<pad>', '<pad>', '<pad>', '<pad>', '<pad>', '<pad>', '<pad>', '<pad>', '<pad>', '<pad>', '<pad>', '<pad>', '<pad>', '<pad>', '<pad>', '<pad>', '<pad>', '<pad>', '<pad>', '<pad>', '<pad>', '<pad>']\n",
            "\n",
            "===== VALIDATION EXAMPLES =====\n",
            "\n",
            "Contoh ke-1:\n",
            "Sebelum: feeling quite sad and sorry for myself but ill snap out of it soon\n",
            "Sesudah: ['feeling', 'quite', 'sad', 'and', 'sorry', 'for', 'myself', 'but', 'ill', 'snap', 'out', 'of', 'it', 'soon', '<pad>', '<pad>', '<pad>', '<pad>', '<pad>', '<pad>', '<pad>', '<pad>', '<pad>', '<pad>', '<pad>', '<pad>', '<pad>', '<pad>', '<pad>', '<pad>', '<pad>', '<pad>', '<pad>', '<pad>', '<pad>', '<pad>', '<pad>', '<pad>', '<pad>', '<pad>', '<pad>', '<pad>', '<pad>', '<pad>', '<pad>', '<pad>', '<pad>', '<pad>', '<pad>', '<pad>', '<pad>', '<pad>', '<pad>', '<pad>', '<pad>', '<pad>', '<pad>', '<pad>', '<pad>', '<pad>', '<pad>', '<pad>', '<pad>', '<pad>', '<pad>', '<pad>', '<pad>', '<pad>', '<pad>', '<pad>', '<pad>', '<pad>', '<pad>', '<pad>', '<pad>', '<pad>', '<pad>', '<pad>', '<pad>', '<pad>', '<pad>', '<pad>', '<pad>', '<pad>', '<pad>', '<pad>', '<pad>', '<pad>', '<pad>', '<pad>', '<pad>', '<pad>', '<pad>', '<pad>', '<pad>', '<pad>', '<pad>', '<pad>', '<pad>', '<pad>']\n",
            "\n",
            "Contoh ke-2:\n",
            "Sebelum: feel like i am still looking at a blank canvas blank pieces of paper\n",
            "Sesudah: ['feel', 'like', 'i', 'am', 'still', 'looking', 'at', 'a', 'blank', 'canvas', 'blank', 'pieces', 'of', 'paper', '<pad>', '<pad>', '<pad>', '<pad>', '<pad>', '<pad>', '<pad>', '<pad>', '<pad>', '<pad>', '<pad>', '<pad>', '<pad>', '<pad>', '<pad>', '<pad>', '<pad>', '<pad>', '<pad>', '<pad>', '<pad>', '<pad>', '<pad>', '<pad>', '<pad>', '<pad>', '<pad>', '<pad>', '<pad>', '<pad>', '<pad>', '<pad>', '<pad>', '<pad>', '<pad>', '<pad>', '<pad>', '<pad>', '<pad>', '<pad>', '<pad>', '<pad>', '<pad>', '<pad>', '<pad>', '<pad>', '<pad>', '<pad>', '<pad>', '<pad>', '<pad>', '<pad>', '<pad>', '<pad>', '<pad>', '<pad>', '<pad>', '<pad>', '<pad>', '<pad>', '<pad>', '<pad>', '<pad>', '<pad>', '<pad>', '<pad>', '<pad>', '<pad>', '<pad>', '<pad>', '<pad>', '<pad>', '<pad>', '<pad>', '<pad>', '<pad>', '<pad>', '<pad>', '<pad>', '<pad>', '<pad>', '<pad>', '<pad>', '<pad>', '<pad>', '<pad>']\n",
            "\n",
            "===== TEST EXAMPLES =====\n",
            "\n",
            "Contoh ke-1:\n",
            "Sebelum: feeling rather rotten so im not very ambitious right now\n",
            "Sesudah: ['feeling', 'rather', 'rotten', 'so', 'im', 'not', 'very', 'ambitious', 'right', 'now', '<pad>', '<pad>', '<pad>', '<pad>', '<pad>', '<pad>', '<pad>', '<pad>', '<pad>', '<pad>', '<pad>', '<pad>', '<pad>', '<pad>', '<pad>', '<pad>', '<pad>', '<pad>', '<pad>', '<pad>', '<pad>', '<pad>', '<pad>', '<pad>', '<pad>', '<pad>', '<pad>', '<pad>', '<pad>', '<pad>', '<pad>', '<pad>', '<pad>', '<pad>', '<pad>', '<pad>', '<pad>', '<pad>', '<pad>', '<pad>', '<pad>', '<pad>', '<pad>', '<pad>', '<pad>', '<pad>', '<pad>', '<pad>', '<pad>', '<pad>', '<pad>', '<pad>', '<pad>', '<pad>', '<pad>', '<pad>', '<pad>', '<pad>', '<pad>', '<pad>', '<pad>', '<pad>', '<pad>', '<pad>', '<pad>', '<pad>', '<pad>', '<pad>', '<pad>', '<pad>', '<pad>', '<pad>', '<pad>', '<pad>', '<pad>', '<pad>', '<pad>', '<pad>', '<pad>', '<pad>', '<pad>', '<pad>', '<pad>', '<pad>', '<pad>', '<pad>', '<pad>', '<pad>', '<pad>', '<pad>']\n",
            "\n",
            "Contoh ke-2:\n",
            "Sebelum: updating my blog because i feel shitty\n",
            "Sesudah: ['updating', 'my', 'blog', 'because', 'i', 'feel', 'shitty', '<pad>', '<pad>', '<pad>', '<pad>', '<pad>', '<pad>', '<pad>', '<pad>', '<pad>', '<pad>', '<pad>', '<pad>', '<pad>', '<pad>', '<pad>', '<pad>', '<pad>', '<pad>', '<pad>', '<pad>', '<pad>', '<pad>', '<pad>', '<pad>', '<pad>', '<pad>', '<pad>', '<pad>', '<pad>', '<pad>', '<pad>', '<pad>', '<pad>', '<pad>', '<pad>', '<pad>', '<pad>', '<pad>', '<pad>', '<pad>', '<pad>', '<pad>', '<pad>', '<pad>', '<pad>', '<pad>', '<pad>', '<pad>', '<pad>', '<pad>', '<pad>', '<pad>', '<pad>', '<pad>', '<pad>', '<pad>', '<pad>', '<pad>', '<pad>', '<pad>', '<pad>', '<pad>', '<pad>', '<pad>', '<pad>', '<pad>', '<pad>', '<pad>', '<pad>', '<pad>', '<pad>', '<pad>', '<pad>', '<pad>', '<pad>', '<pad>', '<pad>', '<pad>', '<pad>', '<pad>', '<pad>', '<pad>', '<pad>', '<pad>', '<pad>', '<pad>', '<pad>', '<pad>', '<pad>', '<pad>', '<pad>', '<pad>', '<pad>']\n"
          ]
        },
        {
          "output_type": "stream",
          "name": "stderr",
          "text": [
            "[nltk_data] Downloading package punkt to /root/nltk_data...\n",
            "[nltk_data]   Package punkt is already up-to-date!\n"
          ]
        }
      ]
    },
    {
      "cell_type": "markdown",
      "source": [
        "#### **Load Embedding GloVe dan Konversi ke Vektor**"
      ],
      "metadata": {
        "id": "ZkEAeaNhP1w6"
      }
    },
    {
      "cell_type": "code",
      "source": [
        "# Load GloVe embeddings\n",
        "embedding_index = {}\n",
        "with open(\"glove.6B.50d.txt\", encoding='utf-8') as f:\n",
        "    for line in f:\n",
        "        values = line.rstrip().split()\n",
        "        word = values[0]\n",
        "        coefs = np.asarray(values[1:], dtype='float32')\n",
        "        embedding_index[word] = coefs\n",
        "\n",
        "# Fungsi konversi kalimat ke vektor\n",
        "def vectorize(tokens_list, embedding_dim=50):\n",
        "    vectorized = []\n",
        "    for sentence in tokens_list:\n",
        "        embedded_sentence = []\n",
        "        for word in sentence:\n",
        "            if word in embedding_index:\n",
        "                embedded_sentence.append(embedding_index[word])\n",
        "            else:\n",
        "                embedded_sentence.append(np.zeros(embedding_dim))\n",
        "        vectorized.append(embedded_sentence)\n",
        "    return np.array(vectorized)\n",
        "\n",
        "# Vektorisasi\n",
        "X_train = vectorize(train_tokens)\n",
        "X_val = vectorize(val_tokens)\n",
        "X_test = vectorize(test_tokens)\n",
        "print(\"Shape X_train:\", X_train.shape)\n"
      ],
      "metadata": {
        "colab": {
          "base_uri": "https://localhost:8080/"
        },
        "id": "Qlh-Jgo9FG9S",
        "outputId": "703373b2-cdb7-41d5-a156-7623fc7ac6ee"
      },
      "execution_count": 25,
      "outputs": [
        {
          "output_type": "stream",
          "name": "stdout",
          "text": [
            "Shape X_train: (16000, 100, 50)\n"
          ]
        }
      ]
    },
    {
      "cell_type": "markdown",
      "source": [
        "#### **Encode Label**"
      ],
      "metadata": {
        "id": "vsdt66R-HSbc"
      }
    },
    {
      "cell_type": "code",
      "source": [
        "# One-hot encoding untuk label\n",
        "all_labels = pd.concat([train_df['emotion'], val_df['emotion'], test_df['emotion']])\n",
        "encoder = OneHotEncoder(sparse_output=False)\n",
        "encoder.fit(np.array(all_labels).reshape(-1, 1))\n",
        "\n",
        "Y_train = encoder.transform(np.array(train_df['emotion']).reshape(-1, 1))\n",
        "Y_val = encoder.transform(np.array(val_df['emotion']).reshape(-1, 1))\n",
        "Y_test = encoder.transform(np.array(test_df['emotion']).reshape(-1, 1))\n",
        "\n",
        "print(\"Label Contoh (one-hot):\", Y_train[0])\n",
        "print(\"Jumlah kelas:\", Y_train.shape[1])"
      ],
      "metadata": {
        "colab": {
          "base_uri": "https://localhost:8080/"
        },
        "id": "DMSs8QxKFjBj",
        "outputId": "4727cdd4-89b4-4110-ad86-09b33ee90098"
      },
      "execution_count": 27,
      "outputs": [
        {
          "output_type": "stream",
          "name": "stdout",
          "text": [
            "Label Contoh (one-hot): [0. 0. 0. 0. 1. 0.]\n",
            "Jumlah kelas: 6\n"
          ]
        }
      ]
    },
    {
      "cell_type": "markdown",
      "source": [
        "#### **Model BiLSTM**"
      ],
      "metadata": {
        "id": "2tCX3OUbH0PC"
      }
    },
    {
      "cell_type": "code",
      "source": [
        "# Buat model BiLSTM yang ditingkatkan\n",
        "def create_improved_bilstm_model(input_shape, num_classes):\n",
        "    model = Sequential()\n",
        "    model.add(Bidirectional(LSTM(128, return_sequences=True), input_shape=input_shape))\n",
        "    model.add(Dropout(0.3))  # Kurangi dropout untuk mempertahankan lebih banyak informasi\n",
        "    model.add(Bidirectional(LSTM(64)))  # Tambah layer LSTM kedua\n",
        "    model.add(Dropout(0.3))\n",
        "    model.add(Dense(32, activation='relu'))  # Tambah dense layer\n",
        "    model.add(Dropout(0.2))\n",
        "    model.add(Dense(num_classes, activation='softmax'))\n",
        "    optimizer = Adam(learning_rate=0.0005)  # Kurangi learning rate\n",
        "    model.compile(optimizer=optimizer, loss='categorical_crossentropy', metrics=['accuracy'])\n",
        "    return model\n",
        "\n",
        "# Buat dan latih model\n",
        "model = create_improved_bilstm_model((100, 50), Y_train.shape[1])\n",
        "model.summary()"
      ],
      "metadata": {
        "colab": {
          "base_uri": "https://localhost:8080/",
          "height": 416
        },
        "id": "64hD5Oh4H94o",
        "outputId": "746b088d-d5fc-4545-a4fc-9d7385cefb45"
      },
      "execution_count": 28,
      "outputs": [
        {
          "output_type": "stream",
          "name": "stderr",
          "text": [
            "/usr/local/lib/python3.11/dist-packages/keras/src/layers/rnn/bidirectional.py:107: UserWarning: Do not pass an `input_shape`/`input_dim` argument to a layer. When using Sequential models, prefer using an `Input(shape)` object as the first layer in the model instead.\n",
            "  super().__init__(**kwargs)\n"
          ]
        },
        {
          "output_type": "display_data",
          "data": {
            "text/plain": [
              "\u001b[1mModel: \"sequential_1\"\u001b[0m\n"
            ],
            "text/html": [
              "<pre style=\"white-space:pre;overflow-x:auto;line-height:normal;font-family:Menlo,'DejaVu Sans Mono',consolas,'Courier New',monospace\"><span style=\"font-weight: bold\">Model: \"sequential_1\"</span>\n",
              "</pre>\n"
            ]
          },
          "metadata": {}
        },
        {
          "output_type": "display_data",
          "data": {
            "text/plain": [
              "┏━━━━━━━━━━━━━━━━━━━━━━━━━━━━━━━━━┳━━━━━━━━━━━━━━━━━━━━━━━━┳━━━━━━━━━━━━━━━┓\n",
              "┃\u001b[1m \u001b[0m\u001b[1mLayer (type)                   \u001b[0m\u001b[1m \u001b[0m┃\u001b[1m \u001b[0m\u001b[1mOutput Shape          \u001b[0m\u001b[1m \u001b[0m┃\u001b[1m \u001b[0m\u001b[1m      Param #\u001b[0m\u001b[1m \u001b[0m┃\n",
              "┡━━━━━━━━━━━━━━━━━━━━━━━━━━━━━━━━━╇━━━━━━━━━━━━━━━━━━━━━━━━╇━━━━━━━━━━━━━━━┩\n",
              "│ bidirectional_1 (\u001b[38;5;33mBidirectional\u001b[0m) │ (\u001b[38;5;45mNone\u001b[0m, \u001b[38;5;34m100\u001b[0m, \u001b[38;5;34m256\u001b[0m)       │       \u001b[38;5;34m183,296\u001b[0m │\n",
              "├─────────────────────────────────┼────────────────────────┼───────────────┤\n",
              "│ dropout_1 (\u001b[38;5;33mDropout\u001b[0m)             │ (\u001b[38;5;45mNone\u001b[0m, \u001b[38;5;34m100\u001b[0m, \u001b[38;5;34m256\u001b[0m)       │             \u001b[38;5;34m0\u001b[0m │\n",
              "├─────────────────────────────────┼────────────────────────┼───────────────┤\n",
              "│ bidirectional_2 (\u001b[38;5;33mBidirectional\u001b[0m) │ (\u001b[38;5;45mNone\u001b[0m, \u001b[38;5;34m128\u001b[0m)            │       \u001b[38;5;34m164,352\u001b[0m │\n",
              "├─────────────────────────────────┼────────────────────────┼───────────────┤\n",
              "│ dropout_2 (\u001b[38;5;33mDropout\u001b[0m)             │ (\u001b[38;5;45mNone\u001b[0m, \u001b[38;5;34m128\u001b[0m)            │             \u001b[38;5;34m0\u001b[0m │\n",
              "├─────────────────────────────────┼────────────────────────┼───────────────┤\n",
              "│ dense_1 (\u001b[38;5;33mDense\u001b[0m)                 │ (\u001b[38;5;45mNone\u001b[0m, \u001b[38;5;34m32\u001b[0m)             │         \u001b[38;5;34m4,128\u001b[0m │\n",
              "├─────────────────────────────────┼────────────────────────┼───────────────┤\n",
              "│ dropout_3 (\u001b[38;5;33mDropout\u001b[0m)             │ (\u001b[38;5;45mNone\u001b[0m, \u001b[38;5;34m32\u001b[0m)             │             \u001b[38;5;34m0\u001b[0m │\n",
              "├─────────────────────────────────┼────────────────────────┼───────────────┤\n",
              "│ dense_2 (\u001b[38;5;33mDense\u001b[0m)                 │ (\u001b[38;5;45mNone\u001b[0m, \u001b[38;5;34m6\u001b[0m)              │           \u001b[38;5;34m198\u001b[0m │\n",
              "└─────────────────────────────────┴────────────────────────┴───────────────┘\n"
            ],
            "text/html": [
              "<pre style=\"white-space:pre;overflow-x:auto;line-height:normal;font-family:Menlo,'DejaVu Sans Mono',consolas,'Courier New',monospace\">┏━━━━━━━━━━━━━━━━━━━━━━━━━━━━━━━━━┳━━━━━━━━━━━━━━━━━━━━━━━━┳━━━━━━━━━━━━━━━┓\n",
              "┃<span style=\"font-weight: bold\"> Layer (type)                    </span>┃<span style=\"font-weight: bold\"> Output Shape           </span>┃<span style=\"font-weight: bold\">       Param # </span>┃\n",
              "┡━━━━━━━━━━━━━━━━━━━━━━━━━━━━━━━━━╇━━━━━━━━━━━━━━━━━━━━━━━━╇━━━━━━━━━━━━━━━┩\n",
              "│ bidirectional_1 (<span style=\"color: #0087ff; text-decoration-color: #0087ff\">Bidirectional</span>) │ (<span style=\"color: #00d7ff; text-decoration-color: #00d7ff\">None</span>, <span style=\"color: #00af00; text-decoration-color: #00af00\">100</span>, <span style=\"color: #00af00; text-decoration-color: #00af00\">256</span>)       │       <span style=\"color: #00af00; text-decoration-color: #00af00\">183,296</span> │\n",
              "├─────────────────────────────────┼────────────────────────┼───────────────┤\n",
              "│ dropout_1 (<span style=\"color: #0087ff; text-decoration-color: #0087ff\">Dropout</span>)             │ (<span style=\"color: #00d7ff; text-decoration-color: #00d7ff\">None</span>, <span style=\"color: #00af00; text-decoration-color: #00af00\">100</span>, <span style=\"color: #00af00; text-decoration-color: #00af00\">256</span>)       │             <span style=\"color: #00af00; text-decoration-color: #00af00\">0</span> │\n",
              "├─────────────────────────────────┼────────────────────────┼───────────────┤\n",
              "│ bidirectional_2 (<span style=\"color: #0087ff; text-decoration-color: #0087ff\">Bidirectional</span>) │ (<span style=\"color: #00d7ff; text-decoration-color: #00d7ff\">None</span>, <span style=\"color: #00af00; text-decoration-color: #00af00\">128</span>)            │       <span style=\"color: #00af00; text-decoration-color: #00af00\">164,352</span> │\n",
              "├─────────────────────────────────┼────────────────────────┼───────────────┤\n",
              "│ dropout_2 (<span style=\"color: #0087ff; text-decoration-color: #0087ff\">Dropout</span>)             │ (<span style=\"color: #00d7ff; text-decoration-color: #00d7ff\">None</span>, <span style=\"color: #00af00; text-decoration-color: #00af00\">128</span>)            │             <span style=\"color: #00af00; text-decoration-color: #00af00\">0</span> │\n",
              "├─────────────────────────────────┼────────────────────────┼───────────────┤\n",
              "│ dense_1 (<span style=\"color: #0087ff; text-decoration-color: #0087ff\">Dense</span>)                 │ (<span style=\"color: #00d7ff; text-decoration-color: #00d7ff\">None</span>, <span style=\"color: #00af00; text-decoration-color: #00af00\">32</span>)             │         <span style=\"color: #00af00; text-decoration-color: #00af00\">4,128</span> │\n",
              "├─────────────────────────────────┼────────────────────────┼───────────────┤\n",
              "│ dropout_3 (<span style=\"color: #0087ff; text-decoration-color: #0087ff\">Dropout</span>)             │ (<span style=\"color: #00d7ff; text-decoration-color: #00d7ff\">None</span>, <span style=\"color: #00af00; text-decoration-color: #00af00\">32</span>)             │             <span style=\"color: #00af00; text-decoration-color: #00af00\">0</span> │\n",
              "├─────────────────────────────────┼────────────────────────┼───────────────┤\n",
              "│ dense_2 (<span style=\"color: #0087ff; text-decoration-color: #0087ff\">Dense</span>)                 │ (<span style=\"color: #00d7ff; text-decoration-color: #00d7ff\">None</span>, <span style=\"color: #00af00; text-decoration-color: #00af00\">6</span>)              │           <span style=\"color: #00af00; text-decoration-color: #00af00\">198</span> │\n",
              "└─────────────────────────────────┴────────────────────────┴───────────────┘\n",
              "</pre>\n"
            ]
          },
          "metadata": {}
        },
        {
          "output_type": "display_data",
          "data": {
            "text/plain": [
              "\u001b[1m Total params: \u001b[0m\u001b[38;5;34m351,974\u001b[0m (1.34 MB)\n"
            ],
            "text/html": [
              "<pre style=\"white-space:pre;overflow-x:auto;line-height:normal;font-family:Menlo,'DejaVu Sans Mono',consolas,'Courier New',monospace\"><span style=\"font-weight: bold\"> Total params: </span><span style=\"color: #00af00; text-decoration-color: #00af00\">351,974</span> (1.34 MB)\n",
              "</pre>\n"
            ]
          },
          "metadata": {}
        },
        {
          "output_type": "display_data",
          "data": {
            "text/plain": [
              "\u001b[1m Trainable params: \u001b[0m\u001b[38;5;34m351,974\u001b[0m (1.34 MB)\n"
            ],
            "text/html": [
              "<pre style=\"white-space:pre;overflow-x:auto;line-height:normal;font-family:Menlo,'DejaVu Sans Mono',consolas,'Courier New',monospace\"><span style=\"font-weight: bold\"> Trainable params: </span><span style=\"color: #00af00; text-decoration-color: #00af00\">351,974</span> (1.34 MB)\n",
              "</pre>\n"
            ]
          },
          "metadata": {}
        },
        {
          "output_type": "display_data",
          "data": {
            "text/plain": [
              "\u001b[1m Non-trainable params: \u001b[0m\u001b[38;5;34m0\u001b[0m (0.00 B)\n"
            ],
            "text/html": [
              "<pre style=\"white-space:pre;overflow-x:auto;line-height:normal;font-family:Menlo,'DejaVu Sans Mono',consolas,'Courier New',monospace\"><span style=\"font-weight: bold\"> Non-trainable params: </span><span style=\"color: #00af00; text-decoration-color: #00af00\">0</span> (0.00 B)\n",
              "</pre>\n"
            ]
          },
          "metadata": {}
        }
      ]
    },
    {
      "cell_type": "markdown",
      "source": [
        "#### **Training**"
      ],
      "metadata": {
        "id": "L_OJBOjaIHTp"
      }
    },
    {
      "cell_type": "code",
      "source": [
        "# Early stopping\n",
        "early_stopping = EarlyStopping(monitor='val_loss', patience=5, restore_best_weights=True)\n",
        "\n",
        "# Latih model dengan lebih banyak epoch\n",
        "history = model.fit(X_train, Y_train,\n",
        "                    validation_data=(X_val, Y_val),\n",
        "                    epochs=50,\n",
        "                    batch_size=128,\n",
        "                    callbacks=[early_stopping])\n"
      ],
      "metadata": {
        "colab": {
          "base_uri": "https://localhost:8080/"
        },
        "id": "MhBCePoXIKtN",
        "outputId": "bf6b7198-0d07-4bf5-e761-7acbd424cd02"
      },
      "execution_count": 29,
      "outputs": [
        {
          "output_type": "stream",
          "name": "stdout",
          "text": [
            "Epoch 1/50\n",
            "\u001b[1m125/125\u001b[0m \u001b[32m━━━━━━━━━━━━━━━━━━━━\u001b[0m\u001b[37m\u001b[0m \u001b[1m9s\u001b[0m 43ms/step - accuracy: 0.3318 - loss: 1.6290 - val_accuracy: 0.4890 - val_loss: 1.3660\n",
            "Epoch 2/50\n",
            "\u001b[1m125/125\u001b[0m \u001b[32m━━━━━━━━━━━━━━━━━━━━\u001b[0m\u001b[37m\u001b[0m \u001b[1m9s\u001b[0m 35ms/step - accuracy: 0.4832 - loss: 1.3852 - val_accuracy: 0.5275 - val_loss: 1.2353\n",
            "Epoch 3/50\n",
            "\u001b[1m125/125\u001b[0m \u001b[32m━━━━━━━━━━━━━━━━━━━━\u001b[0m\u001b[37m\u001b[0m \u001b[1m4s\u001b[0m 35ms/step - accuracy: 0.5231 - loss: 1.2567 - val_accuracy: 0.5610 - val_loss: 1.1566\n",
            "Epoch 4/50\n",
            "\u001b[1m125/125\u001b[0m \u001b[32m━━━━━━━━━━━━━━━━━━━━\u001b[0m\u001b[37m\u001b[0m \u001b[1m4s\u001b[0m 34ms/step - accuracy: 0.5755 - loss: 1.1413 - val_accuracy: 0.6115 - val_loss: 1.0300\n",
            "Epoch 5/50\n",
            "\u001b[1m125/125\u001b[0m \u001b[32m━━━━━━━━━━━━━━━━━━━━\u001b[0m\u001b[37m\u001b[0m \u001b[1m4s\u001b[0m 33ms/step - accuracy: 0.6024 - loss: 1.0655 - val_accuracy: 0.6525 - val_loss: 0.9587\n",
            "Epoch 6/50\n",
            "\u001b[1m125/125\u001b[0m \u001b[32m━━━━━━━━━━━━━━━━━━━━\u001b[0m\u001b[37m\u001b[0m \u001b[1m5s\u001b[0m 36ms/step - accuracy: 0.6465 - loss: 0.9726 - val_accuracy: 0.6740 - val_loss: 0.8713\n",
            "Epoch 7/50\n",
            "\u001b[1m125/125\u001b[0m \u001b[32m━━━━━━━━━━━━━━━━━━━━\u001b[0m\u001b[37m\u001b[0m \u001b[1m5s\u001b[0m 34ms/step - accuracy: 0.6789 - loss: 0.8839 - val_accuracy: 0.7020 - val_loss: 0.8194\n",
            "Epoch 8/50\n",
            "\u001b[1m125/125\u001b[0m \u001b[32m━━━━━━━━━━━━━━━━━━━━\u001b[0m\u001b[37m\u001b[0m \u001b[1m4s\u001b[0m 34ms/step - accuracy: 0.6973 - loss: 0.8295 - val_accuracy: 0.7255 - val_loss: 0.7562\n",
            "Epoch 9/50\n",
            "\u001b[1m125/125\u001b[0m \u001b[32m━━━━━━━━━━━━━━━━━━━━\u001b[0m\u001b[37m\u001b[0m \u001b[1m4s\u001b[0m 34ms/step - accuracy: 0.7124 - loss: 0.7759 - val_accuracy: 0.7545 - val_loss: 0.7043\n",
            "Epoch 10/50\n",
            "\u001b[1m125/125\u001b[0m \u001b[32m━━━━━━━━━━━━━━━━━━━━\u001b[0m\u001b[37m\u001b[0m \u001b[1m5s\u001b[0m 33ms/step - accuracy: 0.7409 - loss: 0.7131 - val_accuracy: 0.7740 - val_loss: 0.6554\n",
            "Epoch 11/50\n",
            "\u001b[1m125/125\u001b[0m \u001b[32m━━━━━━━━━━━━━━━━━━━━\u001b[0m\u001b[37m\u001b[0m \u001b[1m4s\u001b[0m 35ms/step - accuracy: 0.7654 - loss: 0.6345 - val_accuracy: 0.7760 - val_loss: 0.6279\n",
            "Epoch 12/50\n",
            "\u001b[1m125/125\u001b[0m \u001b[32m━━━━━━━━━━━━━━━━━━━━\u001b[0m\u001b[37m\u001b[0m \u001b[1m5s\u001b[0m 33ms/step - accuracy: 0.7921 - loss: 0.5752 - val_accuracy: 0.7980 - val_loss: 0.5645\n",
            "Epoch 13/50\n",
            "\u001b[1m125/125\u001b[0m \u001b[32m━━━━━━━━━━━━━━━━━━━━\u001b[0m\u001b[37m\u001b[0m \u001b[1m5s\u001b[0m 34ms/step - accuracy: 0.8143 - loss: 0.5199 - val_accuracy: 0.8015 - val_loss: 0.5547\n",
            "Epoch 14/50\n",
            "\u001b[1m125/125\u001b[0m \u001b[32m━━━━━━━━━━━━━━━━━━━━\u001b[0m\u001b[37m\u001b[0m \u001b[1m5s\u001b[0m 33ms/step - accuracy: 0.8261 - loss: 0.4900 - val_accuracy: 0.8275 - val_loss: 0.5181\n",
            "Epoch 15/50\n",
            "\u001b[1m125/125\u001b[0m \u001b[32m━━━━━━━━━━━━━━━━━━━━\u001b[0m\u001b[37m\u001b[0m \u001b[1m5s\u001b[0m 33ms/step - accuracy: 0.8458 - loss: 0.4382 - val_accuracy: 0.8205 - val_loss: 0.5326\n",
            "Epoch 16/50\n",
            "\u001b[1m125/125\u001b[0m \u001b[32m━━━━━━━━━━━━━━━━━━━━\u001b[0m\u001b[37m\u001b[0m \u001b[1m5s\u001b[0m 35ms/step - accuracy: 0.8489 - loss: 0.4195 - val_accuracy: 0.8330 - val_loss: 0.4794\n",
            "Epoch 17/50\n",
            "\u001b[1m125/125\u001b[0m \u001b[32m━━━━━━━━━━━━━━━━━━━━\u001b[0m\u001b[37m\u001b[0m \u001b[1m4s\u001b[0m 33ms/step - accuracy: 0.8600 - loss: 0.3867 - val_accuracy: 0.8405 - val_loss: 0.4583\n",
            "Epoch 18/50\n",
            "\u001b[1m125/125\u001b[0m \u001b[32m━━━━━━━━━━━━━━━━━━━━\u001b[0m\u001b[37m\u001b[0m \u001b[1m5s\u001b[0m 34ms/step - accuracy: 0.8747 - loss: 0.3535 - val_accuracy: 0.8315 - val_loss: 0.4871\n",
            "Epoch 19/50\n",
            "\u001b[1m125/125\u001b[0m \u001b[32m━━━━━━━━━━━━━━━━━━━━\u001b[0m\u001b[37m\u001b[0m \u001b[1m5s\u001b[0m 33ms/step - accuracy: 0.8762 - loss: 0.3501 - val_accuracy: 0.8405 - val_loss: 0.4684\n",
            "Epoch 20/50\n",
            "\u001b[1m125/125\u001b[0m \u001b[32m━━━━━━━━━━━━━━━━━━━━\u001b[0m\u001b[37m\u001b[0m \u001b[1m5s\u001b[0m 34ms/step - accuracy: 0.8830 - loss: 0.3202 - val_accuracy: 0.8470 - val_loss: 0.4607\n",
            "Epoch 21/50\n",
            "\u001b[1m125/125\u001b[0m \u001b[32m━━━━━━━━━━━━━━━━━━━━\u001b[0m\u001b[37m\u001b[0m \u001b[1m4s\u001b[0m 35ms/step - accuracy: 0.8997 - loss: 0.2823 - val_accuracy: 0.8325 - val_loss: 0.4909\n",
            "Epoch 22/50\n",
            "\u001b[1m125/125\u001b[0m \u001b[32m━━━━━━━━━━━━━━━━━━━━\u001b[0m\u001b[37m\u001b[0m \u001b[1m5s\u001b[0m 33ms/step - accuracy: 0.8967 - loss: 0.2934 - val_accuracy: 0.8540 - val_loss: 0.4561\n",
            "Epoch 23/50\n",
            "\u001b[1m125/125\u001b[0m \u001b[32m━━━━━━━━━━━━━━━━━━━━\u001b[0m\u001b[37m\u001b[0m \u001b[1m5s\u001b[0m 34ms/step - accuracy: 0.9031 - loss: 0.2565 - val_accuracy: 0.8535 - val_loss: 0.4442\n",
            "Epoch 24/50\n",
            "\u001b[1m125/125\u001b[0m \u001b[32m━━━━━━━━━━━━━━━━━━━━\u001b[0m\u001b[37m\u001b[0m \u001b[1m5s\u001b[0m 36ms/step - accuracy: 0.9073 - loss: 0.2466 - val_accuracy: 0.8610 - val_loss: 0.4340\n",
            "Epoch 25/50\n",
            "\u001b[1m125/125\u001b[0m \u001b[32m━━━━━━━━━━━━━━━━━━━━\u001b[0m\u001b[37m\u001b[0m \u001b[1m4s\u001b[0m 33ms/step - accuracy: 0.9177 - loss: 0.2229 - val_accuracy: 0.8545 - val_loss: 0.4604\n",
            "Epoch 26/50\n",
            "\u001b[1m125/125\u001b[0m \u001b[32m━━━━━━━━━━━━━━━━━━━━\u001b[0m\u001b[37m\u001b[0m \u001b[1m4s\u001b[0m 35ms/step - accuracy: 0.9277 - loss: 0.2022 - val_accuracy: 0.8475 - val_loss: 0.4696\n",
            "Epoch 27/50\n",
            "\u001b[1m125/125\u001b[0m \u001b[32m━━━━━━━━━━━━━━━━━━━━\u001b[0m\u001b[37m\u001b[0m \u001b[1m5s\u001b[0m 33ms/step - accuracy: 0.9221 - loss: 0.2048 - val_accuracy: 0.8515 - val_loss: 0.4749\n",
            "Epoch 28/50\n",
            "\u001b[1m125/125\u001b[0m \u001b[32m━━━━━━━━━━━━━━━━━━━━\u001b[0m\u001b[37m\u001b[0m \u001b[1m5s\u001b[0m 33ms/step - accuracy: 0.9336 - loss: 0.1820 - val_accuracy: 0.8555 - val_loss: 0.4596\n",
            "Epoch 29/50\n",
            "\u001b[1m125/125\u001b[0m \u001b[32m━━━━━━━━━━━━━━━━━━━━\u001b[0m\u001b[37m\u001b[0m \u001b[1m5s\u001b[0m 33ms/step - accuracy: 0.9309 - loss: 0.1890 - val_accuracy: 0.8590 - val_loss: 0.4473\n"
          ]
        }
      ]
    },
    {
      "cell_type": "markdown",
      "source": [
        "#### **Evaluasi**"
      ],
      "metadata": {
        "id": "rUdHloqaIMnh"
      }
    },
    {
      "cell_type": "code",
      "source": [
        "loss, acc = model.evaluate(X_test, Y_test)\n",
        "print(\"Akurasi Test:\", acc)\n"
      ],
      "metadata": {
        "colab": {
          "base_uri": "https://localhost:8080/"
        },
        "id": "wvHAmWhEIXTR",
        "outputId": "a5eb4eb8-646e-4d11-fdff-69470be11d9a"
      },
      "execution_count": 30,
      "outputs": [
        {
          "output_type": "stream",
          "name": "stdout",
          "text": [
            "\u001b[1m63/63\u001b[0m \u001b[32m━━━━━━━━━━━━━━━━━━━━\u001b[0m\u001b[37m\u001b[0m \u001b[1m1s\u001b[0m 11ms/step - accuracy: 0.8456 - loss: 0.4623\n",
            "Akurasi Test: 0.8504999876022339\n"
          ]
        }
      ]
    },
    {
      "cell_type": "markdown",
      "source": [
        "#### **Plot Akurasi dan Loss**"
      ],
      "metadata": {
        "id": "JWMsOKngIcr6"
      }
    },
    {
      "cell_type": "code",
      "source": [
        "import matplotlib.pyplot as plt\n",
        "\n",
        "plt.plot(history.history['accuracy'], label='Train Acc')\n",
        "plt.plot(history.history['val_accuracy'], label='Val Acc')\n",
        "plt.xlabel(\"Epoch\")\n",
        "plt.ylabel(\"Akurasi\")\n",
        "plt.legend()\n",
        "plt.title(\"Akurasi Training vs Validasi\")\n",
        "plt.show()\n"
      ],
      "metadata": {
        "colab": {
          "base_uri": "https://localhost:8080/",
          "height": 472
        },
        "id": "CMkvneC9If09",
        "outputId": "7b59f4cf-4f24-4a6d-b677-c831e5e0d4bb"
      },
      "execution_count": 31,
      "outputs": [
        {
          "output_type": "display_data",
          "data": {
            "text/plain": [
              "<Figure size 640x480 with 1 Axes>"
            ],
            "image/png": "[encoded data removed]"
          },
          "metadata": {}
        }
      ]
    },
    {
      "cell_type": "markdown",
      "source": [
        "#### **Tes Data Baru**"
      ],
      "metadata": {
        "id": "hbP80pYBIjkE"
      }
    },
    {
      "cell_type": "code",
      "source": [
        "# Fungsi untuk memproses dan memprediksi data baru\n",
        "def predict_new_data(text, encoder, embedding_index, model, max_len=100, embedding_dim=50):\n",
        "    # Preprocess teks baru\n",
        "    tokens = str(text).lower().split()\n",
        "    tokens = padd(tokens, max_len)\n",
        "    # Vektorisasi\n",
        "    embedded_sentence = []\n",
        "    for word in tokens:\n",
        "        if word in embedding_index:\n",
        "            embedded_sentence.append(embedding_index[word])\n",
        "        else:\n",
        "            embedded_sentence.append(np.zeros(embedding_dim))\n",
        "    X_new = np.array([embedded_sentence])\n",
        "    # Prediksi\n",
        "    prediction = model.predict(X_new)\n",
        "    predicted_label = encoder.inverse_transform(prediction)[0][0]\n",
        "    return predicted_label\n",
        "\n",
        "# Interaktif: Meminta input dari pengguna\n",
        "print(\"\\n===== PREDIKSI DATA BARU =====\")\n",
        "print(\"Masukkan teks untuk memprediksi emosi (ketik 'selesai' untuk berhenti):\")\n",
        "while True:\n",
        "    user_input = input(\"Teks: \")\n",
        "    if user_input.lower() == 'selesai':\n",
        "        print(\"Prediksi selesai.\")\n",
        "        break\n",
        "    if user_input.strip() == \"\":\n",
        "        print(\"Teks tidak boleh kosong. Coba lagi.\")\n",
        "        continue\n",
        "    predicted_emotion = predict_new_data(user_input, encoder, embedding_index, model)\n",
        "    print(f\"Emosi yang diprediksi: {predicted_emotion}\\n\")"
      ],
      "metadata": {
        "colab": {
          "base_uri": "https://localhost:8080/"
        },
        "id": "xNNP48crImV0",
        "outputId": "da9433fc-1882-4055-b9fc-b5c9a951bf33"
      },
      "execution_count": 34,
      "outputs": [
        {
          "output_type": "stream",
          "name": "stdout",
          "text": [
            "\n",
            "===== PREDIKSI DATA BARU =====\n",
            "Masukkan teks untuk memprediksi emosi (ketik 'selesai' untuk berhenti):\n",
            "Teks: I feel so happy today because I got a promotion!\n",
            "\u001b[1m1/1\u001b[0m \u001b[32m━━━━━━━━━━━━━━━━━━━━\u001b[0m\u001b[37m\u001b[0m \u001b[1m0s\u001b[0m 37ms/step\n",
            "Emosi yang diprediksi: joy\n",
            "\n",
            "Teks: This is the worst day ever, everything is going wrong.\n",
            "\u001b[1m1/1\u001b[0m \u001b[32m━━━━━━━━━━━━━━━━━━━━\u001b[0m\u001b[37m\u001b[0m \u001b[1m0s\u001b[0m 35ms/step\n",
            "Emosi yang diprediksi: anger\n",
            "\n",
            "Teks: selesai\n",
            "Prediksi selesai.\n"
          ]
        }
      ]
    }
  ]
}